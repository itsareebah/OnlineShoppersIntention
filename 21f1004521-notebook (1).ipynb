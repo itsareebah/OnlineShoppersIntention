{
 "cells": [
  {
   "cell_type": "markdown",
   "id": "746d34bf",
   "metadata": {
    "papermill": {
     "duration": 0.008853,
     "end_time": "2023-03-31T15:38:47.844088",
     "exception": false,
     "start_time": "2023-03-31T15:38:47.835235",
     "status": "completed"
    },
    "tags": []
   },
   "source": [
    "# IMPORTS"
   ]
  },
  {
   "cell_type": "code",
   "execution_count": 1,
   "id": "b86c2f7a",
   "metadata": {
    "execution": {
     "iopub.execute_input": "2023-03-31T15:38:47.862511Z",
     "iopub.status.busy": "2023-03-31T15:38:47.861868Z",
     "iopub.status.idle": "2023-03-31T15:38:48.946568Z",
     "shell.execute_reply": "2023-03-31T15:38:48.944863Z"
    },
    "papermill": {
     "duration": 1.09776,
     "end_time": "2023-03-31T15:38:48.949984",
     "exception": false,
     "start_time": "2023-03-31T15:38:47.852224",
     "status": "completed"
    },
    "tags": []
   },
   "outputs": [],
   "source": [
    "import numpy as np\n",
    "import pandas as pd\n",
    "import matplotlib.pyplot as plt\n",
    "import seaborn as sns"
   ]
  },
  {
   "cell_type": "code",
   "execution_count": 2,
   "id": "c198ef70",
   "metadata": {
    "execution": {
     "iopub.execute_input": "2023-03-31T15:38:48.968328Z",
     "iopub.status.busy": "2023-03-31T15:38:48.967803Z",
     "iopub.status.idle": "2023-03-31T15:38:49.636807Z",
     "shell.execute_reply": "2023-03-31T15:38:49.635011Z"
    },
    "papermill": {
     "duration": 0.681456,
     "end_time": "2023-03-31T15:38:49.639669",
     "exception": false,
     "start_time": "2023-03-31T15:38:48.958213",
     "status": "completed"
    },
    "tags": []
   },
   "outputs": [],
   "source": [
    "from sklearn.model_selection import StratifiedShuffleSplit\n",
    "\n",
    "from sklearn.preprocessing import StandardScaler, OneHotEncoder\n",
    "from sklearn.experimental import enable_iterative_imputer\n",
    "from sklearn.impute import IterativeImputer\n",
    "from sklearn.preprocessing import QuantileTransformer\n",
    "\n",
    "from sklearn.pipeline import Pipeline\n",
    "from sklearn.compose import ColumnTransformer\n",
    "\n",
    "from sklearn.ensemble import IsolationForest\n",
    "from imblearn.over_sampling import SMOTE\n",
    "\n",
    "from sklearn.ensemble import AdaBoostClassifier, StackingClassifier, RandomForestClassifier\n",
    "from xgboost import XGBClassifier\n",
    "from sklearn.tree import DecisionTreeClassifier\n",
    "from sklearn.svm import SVC\n",
    "\n",
    "from sklearn.metrics import classification_report\n",
    "from sklearn.metrics import confusion_matrix\n",
    "from sklearn.model_selection import RandomizedSearchCV\n",
    "\n",
    "\n",
    "from sklearn.model_selection import cross_validate, cross_val_score"
   ]
  },
  {
   "cell_type": "markdown",
   "id": "89578b2d",
   "metadata": {
    "papermill": {
     "duration": 0.007444,
     "end_time": "2023-03-31T15:38:49.655374",
     "exception": false,
     "start_time": "2023-03-31T15:38:49.647930",
     "status": "completed"
    },
    "tags": []
   },
   "source": [
    "### Data Import"
   ]
  },
  {
   "cell_type": "code",
   "execution_count": 3,
   "id": "89c06a62",
   "metadata": {
    "execution": {
     "iopub.execute_input": "2023-03-31T15:38:49.672985Z",
     "iopub.status.busy": "2023-03-31T15:38:49.672523Z",
     "iopub.status.idle": "2023-03-31T15:38:49.791974Z",
     "shell.execute_reply": "2023-03-31T15:38:49.790585Z"
    },
    "papermill": {
     "duration": 0.130834,
     "end_time": "2023-03-31T15:38:49.793897",
     "exception": false,
     "start_time": "2023-03-31T15:38:49.663063",
     "status": "completed"
    },
    "tags": []
   },
   "outputs": [
    {
     "data": {
      "text/html": [
       "<div>\n",
       "<style scoped>\n",
       "    .dataframe tbody tr th:only-of-type {\n",
       "        vertical-align: middle;\n",
       "    }\n",
       "\n",
       "    .dataframe tbody tr th {\n",
       "        vertical-align: top;\n",
       "    }\n",
       "\n",
       "    .dataframe thead th {\n",
       "        text-align: right;\n",
       "    }\n",
       "</style>\n",
       "<table border=\"1\" class=\"dataframe\">\n",
       "  <thead>\n",
       "    <tr style=\"text-align: right;\">\n",
       "      <th></th>\n",
       "      <th>HomePage</th>\n",
       "      <th>HomePage_Duration</th>\n",
       "      <th>LandingPage</th>\n",
       "      <th>LandingPage_Duration</th>\n",
       "      <th>ProductDescriptionPage</th>\n",
       "      <th>ProductDescriptionPage_Duration</th>\n",
       "      <th>GoogleMetric:Bounce Rates</th>\n",
       "      <th>GoogleMetric:Exit Rates</th>\n",
       "      <th>GoogleMetric:Page Values</th>\n",
       "      <th>SeasonalPurchase</th>\n",
       "      <th>...</th>\n",
       "      <th>SearchEngine</th>\n",
       "      <th>Zone</th>\n",
       "      <th>Type of Traffic</th>\n",
       "      <th>CustomerType</th>\n",
       "      <th>Gender</th>\n",
       "      <th>Cookies Setting</th>\n",
       "      <th>Education</th>\n",
       "      <th>Marital Status</th>\n",
       "      <th>WeekendPurchase</th>\n",
       "      <th>Made_Purchase</th>\n",
       "    </tr>\n",
       "  </thead>\n",
       "  <tbody>\n",
       "    <tr>\n",
       "      <th>0</th>\n",
       "      <td>0.0</td>\n",
       "      <td>0.0</td>\n",
       "      <td>0.0</td>\n",
       "      <td>0.0</td>\n",
       "      <td>1.0</td>\n",
       "      <td>0.000000</td>\n",
       "      <td>0.20</td>\n",
       "      <td>0.20</td>\n",
       "      <td>0.0</td>\n",
       "      <td>0.0</td>\n",
       "      <td>...</td>\n",
       "      <td>1.0</td>\n",
       "      <td>9.0</td>\n",
       "      <td>3.0</td>\n",
       "      <td>Returning_Visitor</td>\n",
       "      <td>Not Specified</td>\n",
       "      <td>Deny</td>\n",
       "      <td>Not Specified</td>\n",
       "      <td>Other</td>\n",
       "      <td>0.0</td>\n",
       "      <td>False</td>\n",
       "    </tr>\n",
       "    <tr>\n",
       "      <th>1</th>\n",
       "      <td>0.0</td>\n",
       "      <td>0.0</td>\n",
       "      <td>0.0</td>\n",
       "      <td>0.0</td>\n",
       "      <td>2.0</td>\n",
       "      <td>2.666667</td>\n",
       "      <td>0.05</td>\n",
       "      <td>0.14</td>\n",
       "      <td>0.0</td>\n",
       "      <td>0.0</td>\n",
       "      <td>...</td>\n",
       "      <td>2.0</td>\n",
       "      <td>2.0</td>\n",
       "      <td>4.0</td>\n",
       "      <td>Returning_Visitor</td>\n",
       "      <td>Female</td>\n",
       "      <td>Deny</td>\n",
       "      <td>Others</td>\n",
       "      <td>Married</td>\n",
       "      <td>0.0</td>\n",
       "      <td>False</td>\n",
       "    </tr>\n",
       "    <tr>\n",
       "      <th>2</th>\n",
       "      <td>0.0</td>\n",
       "      <td>0.0</td>\n",
       "      <td>0.0</td>\n",
       "      <td>0.0</td>\n",
       "      <td>10.0</td>\n",
       "      <td>627.500000</td>\n",
       "      <td>0.02</td>\n",
       "      <td>0.05</td>\n",
       "      <td>0.0</td>\n",
       "      <td>0.0</td>\n",
       "      <td>...</td>\n",
       "      <td>3.0</td>\n",
       "      <td>1.0</td>\n",
       "      <td>4.0</td>\n",
       "      <td>Returning_Visitor</td>\n",
       "      <td>Female</td>\n",
       "      <td>ALL</td>\n",
       "      <td>Others</td>\n",
       "      <td>Married</td>\n",
       "      <td>1.0</td>\n",
       "      <td>False</td>\n",
       "    </tr>\n",
       "    <tr>\n",
       "      <th>3</th>\n",
       "      <td>0.0</td>\n",
       "      <td>0.0</td>\n",
       "      <td>0.0</td>\n",
       "      <td>0.0</td>\n",
       "      <td>1.0</td>\n",
       "      <td>0.000000</td>\n",
       "      <td>0.20</td>\n",
       "      <td>0.20</td>\n",
       "      <td>0.0</td>\n",
       "      <td>0.4</td>\n",
       "      <td>...</td>\n",
       "      <td>4.0</td>\n",
       "      <td>3.0</td>\n",
       "      <td>3.0</td>\n",
       "      <td>Returning_Visitor</td>\n",
       "      <td>Male</td>\n",
       "      <td>ALL</td>\n",
       "      <td>Diploma</td>\n",
       "      <td>Single</td>\n",
       "      <td>0.0</td>\n",
       "      <td>False</td>\n",
       "    </tr>\n",
       "    <tr>\n",
       "      <th>4</th>\n",
       "      <td>1.0</td>\n",
       "      <td>0.0</td>\n",
       "      <td>0.0</td>\n",
       "      <td>0.0</td>\n",
       "      <td>0.0</td>\n",
       "      <td>0.000000</td>\n",
       "      <td>0.20</td>\n",
       "      <td>0.20</td>\n",
       "      <td>0.0</td>\n",
       "      <td>0.0</td>\n",
       "      <td>...</td>\n",
       "      <td>2.0</td>\n",
       "      <td>1.0</td>\n",
       "      <td>5.0</td>\n",
       "      <td>Returning_Visitor</td>\n",
       "      <td>Male</td>\n",
       "      <td>Deny</td>\n",
       "      <td>Diploma</td>\n",
       "      <td>Other</td>\n",
       "      <td>1.0</td>\n",
       "      <td>False</td>\n",
       "    </tr>\n",
       "  </tbody>\n",
       "</table>\n",
       "<p>5 rows × 22 columns</p>\n",
       "</div>"
      ],
      "text/plain": [
       "   HomePage  HomePage_Duration  LandingPage  LandingPage_Duration  \\\n",
       "0       0.0                0.0          0.0                   0.0   \n",
       "1       0.0                0.0          0.0                   0.0   \n",
       "2       0.0                0.0          0.0                   0.0   \n",
       "3       0.0                0.0          0.0                   0.0   \n",
       "4       1.0                0.0          0.0                   0.0   \n",
       "\n",
       "   ProductDescriptionPage  ProductDescriptionPage_Duration  \\\n",
       "0                     1.0                         0.000000   \n",
       "1                     2.0                         2.666667   \n",
       "2                    10.0                       627.500000   \n",
       "3                     1.0                         0.000000   \n",
       "4                     0.0                         0.000000   \n",
       "\n",
       "   GoogleMetric:Bounce Rates  GoogleMetric:Exit Rates  \\\n",
       "0                       0.20                     0.20   \n",
       "1                       0.05                     0.14   \n",
       "2                       0.02                     0.05   \n",
       "3                       0.20                     0.20   \n",
       "4                       0.20                     0.20   \n",
       "\n",
       "   GoogleMetric:Page Values  SeasonalPurchase  ... SearchEngine  Zone  \\\n",
       "0                       0.0               0.0  ...          1.0   9.0   \n",
       "1                       0.0               0.0  ...          2.0   2.0   \n",
       "2                       0.0               0.0  ...          3.0   1.0   \n",
       "3                       0.0               0.4  ...          4.0   3.0   \n",
       "4                       0.0               0.0  ...          2.0   1.0   \n",
       "\n",
       "   Type of Traffic       CustomerType         Gender Cookies Setting  \\\n",
       "0              3.0  Returning_Visitor  Not Specified            Deny   \n",
       "1              4.0  Returning_Visitor         Female            Deny   \n",
       "2              4.0  Returning_Visitor         Female             ALL   \n",
       "3              3.0  Returning_Visitor           Male             ALL   \n",
       "4              5.0  Returning_Visitor           Male            Deny   \n",
       "\n",
       "       Education Marital Status WeekendPurchase Made_Purchase  \n",
       "0  Not Specified          Other             0.0         False  \n",
       "1         Others        Married             0.0         False  \n",
       "2         Others        Married             1.0         False  \n",
       "3        Diploma         Single             0.0         False  \n",
       "4        Diploma          Other             1.0         False  \n",
       "\n",
       "[5 rows x 22 columns]"
      ]
     },
     "execution_count": 3,
     "metadata": {},
     "output_type": "execute_result"
    }
   ],
   "source": [
    "train_data = \"/kaggle/input/e-commerce-shoppers-behaviour-understanding/train_data_v2.csv\"\n",
    "df=pd.read_csv(train_data)\n",
    "df.head(5)"
   ]
  },
  {
   "cell_type": "markdown",
   "id": "03c8f396",
   "metadata": {
    "papermill": {
     "duration": 0.007539,
     "end_time": "2023-03-31T15:38:49.809586",
     "exception": false,
     "start_time": "2023-03-31T15:38:49.802047",
     "status": "completed"
    },
    "tags": []
   },
   "source": [
    "# Looking Into The Data"
   ]
  },
  {
   "cell_type": "code",
   "execution_count": 4,
   "id": "3ae9a963",
   "metadata": {
    "execution": {
     "iopub.execute_input": "2023-03-31T15:38:49.828255Z",
     "iopub.status.busy": "2023-03-31T15:38:49.827395Z",
     "iopub.status.idle": "2023-03-31T15:38:49.858076Z",
     "shell.execute_reply": "2023-03-31T15:38:49.856082Z"
    },
    "papermill": {
     "duration": 0.044598,
     "end_time": "2023-03-31T15:38:49.862032",
     "exception": false,
     "start_time": "2023-03-31T15:38:49.817434",
     "status": "completed"
    },
    "tags": []
   },
   "outputs": [
    {
     "name": "stdout",
     "output_type": "stream",
     "text": [
      "<class 'pandas.core.frame.DataFrame'>\n",
      "RangeIndex: 14731 entries, 0 to 14730\n",
      "Data columns (total 22 columns):\n",
      " #   Column                           Non-Null Count  Dtype  \n",
      "---  ------                           --------------  -----  \n",
      " 0   HomePage                         14578 non-null  float64\n",
      " 1   HomePage_Duration                14581 non-null  float64\n",
      " 2   LandingPage                      14578 non-null  float64\n",
      " 3   LandingPage_Duration             14596 non-null  float64\n",
      " 4   ProductDescriptionPage           14608 non-null  float64\n",
      " 5   ProductDescriptionPage_Duration  14564 non-null  float64\n",
      " 6   GoogleMetric:Bounce Rates        14580 non-null  float64\n",
      " 7   GoogleMetric:Exit Rates          14602 non-null  float64\n",
      " 8   GoogleMetric:Page Values         14599 non-null  float64\n",
      " 9   SeasonalPurchase                 14581 non-null  float64\n",
      " 10  Month_SeasonalPurchase           14587 non-null  object \n",
      " 11  OS                               14597 non-null  float64\n",
      " 12  SearchEngine                     14609 non-null  float64\n",
      " 13  Zone                             14614 non-null  float64\n",
      " 14  Type of Traffic                  14588 non-null  float64\n",
      " 15  CustomerType                     14587 non-null  object \n",
      " 16  Gender                           14586 non-null  object \n",
      " 17  Cookies Setting                  14587 non-null  object \n",
      " 18  Education                        14595 non-null  object \n",
      " 19  Marital Status                   14601 non-null  object \n",
      " 20  WeekendPurchase                  14610 non-null  float64\n",
      " 21  Made_Purchase                    14731 non-null  bool   \n",
      "dtypes: bool(1), float64(15), object(6)\n",
      "memory usage: 2.4+ MB\n"
     ]
    }
   ],
   "source": [
    "df.info()"
   ]
  },
  {
   "cell_type": "code",
   "execution_count": 5,
   "id": "30ca55ba",
   "metadata": {
    "execution": {
     "iopub.execute_input": "2023-03-31T15:38:49.882880Z",
     "iopub.status.busy": "2023-03-31T15:38:49.882427Z",
     "iopub.status.idle": "2023-03-31T15:38:49.897806Z",
     "shell.execute_reply": "2023-03-31T15:38:49.896823Z"
    },
    "papermill": {
     "duration": 0.027695,
     "end_time": "2023-03-31T15:38:49.899783",
     "exception": false,
     "start_time": "2023-03-31T15:38:49.872088",
     "status": "completed"
    },
    "tags": []
   },
   "outputs": [
    {
     "data": {
      "text/plain": [
       "HomePage                           153\n",
       "HomePage_Duration                  150\n",
       "LandingPage                        153\n",
       "LandingPage_Duration               135\n",
       "ProductDescriptionPage             123\n",
       "ProductDescriptionPage_Duration    167\n",
       "GoogleMetric:Bounce Rates          151\n",
       "GoogleMetric:Exit Rates            129\n",
       "GoogleMetric:Page Values           132\n",
       "SeasonalPurchase                   150\n",
       "Month_SeasonalPurchase             144\n",
       "OS                                 134\n",
       "SearchEngine                       122\n",
       "Zone                               117\n",
       "Type of Traffic                    143\n",
       "CustomerType                       144\n",
       "Gender                             145\n",
       "Cookies Setting                    144\n",
       "Education                          136\n",
       "Marital Status                     130\n",
       "WeekendPurchase                    121\n",
       "Made_Purchase                        0\n",
       "dtype: int64"
      ]
     },
     "execution_count": 5,
     "metadata": {},
     "output_type": "execute_result"
    }
   ],
   "source": [
    "df.isnull().sum()"
   ]
  },
  {
   "cell_type": "code",
   "execution_count": 6,
   "id": "f04aa9c6",
   "metadata": {
    "execution": {
     "iopub.execute_input": "2023-03-31T15:38:49.919740Z",
     "iopub.status.busy": "2023-03-31T15:38:49.918670Z",
     "iopub.status.idle": "2023-03-31T15:38:50.075927Z",
     "shell.execute_reply": "2023-03-31T15:38:50.074886Z"
    },
    "papermill": {
     "duration": 0.169368,
     "end_time": "2023-03-31T15:38:50.078061",
     "exception": false,
     "start_time": "2023-03-31T15:38:49.908693",
     "status": "completed"
    },
    "tags": []
   },
   "outputs": [
    {
     "data": {
      "image/png": "[encoded data removed]",
      "text/plain": [
       "<Figure size 432x288 with 1 Axes>"
      ]
     },
     "metadata": {
      "needs_background": "light"
     },
     "output_type": "display_data"
    }
   ],
   "source": [
    "sns.countplot(data=df, x='Made_Purchase');\n",
    "# data imbalanced"
   ]
  },
  {
   "cell_type": "code",
   "execution_count": 7,
   "id": "d2a223c3",
   "metadata": {
    "execution": {
     "iopub.execute_input": "2023-03-31T15:38:50.100041Z",
     "iopub.status.busy": "2023-03-31T15:38:50.099131Z",
     "iopub.status.idle": "2023-03-31T15:38:52.166569Z",
     "shell.execute_reply": "2023-03-31T15:38:52.165649Z"
    },
    "papermill": {
     "duration": 2.079853,
     "end_time": "2023-03-31T15:38:52.168956",
     "exception": false,
     "start_time": "2023-03-31T15:38:50.089103",
     "status": "completed"
    },
    "tags": []
   },
   "outputs": [
    {
     "data": {
      "image/png": "[encoded data removed]",
      "text/plain": [
       "<Figure size 1152x720 with 9 Axes>"
      ]
     },
     "metadata": {
      "needs_background": "light"
     },
     "output_type": "display_data"
    }
   ],
   "source": [
    "fig = plt.figure(figsize=(16, 10))\n",
    "ax = []\n",
    "for i in range(1, 10):\n",
    "    ax.append(fig.add_subplot(3, 3, i))\n",
    "\n",
    "sns.histplot(df['GoogleMetric:Bounce Rates'], bins=20, ax=ax[0], kde=True, linewidth=0)\n",
    "sns.histplot(df['GoogleMetric:Exit Rates'], bins=20, ax=ax[1], kde=True, linewidth=0)\n",
    "sns.histplot(df['GoogleMetric:Page Values'], bins=20, ax=ax[2], kde=True, linewidth=0)\n",
    "    \n",
    "sns.histplot(data=df, x = 'HomePage', bins=20, ax=ax[3], kde=True, linewidth=0)\n",
    "sns.histplot(data=df, x = 'HomePage_Duration', bins=20, ax=ax[4], kde=True, linewidth=0)\n",
    "sns.histplot(data=df, x = 'ProductDescriptionPage', bins=20, ax=ax[5], kde=True, linewidth=0)\n",
    "    \n",
    "sns.histplot(data=df, x = 'LandingPage', bins=20, ax=ax[6], kde=True, linewidth=0)\n",
    "sns.histplot(data=df, x = 'LandingPage_Duration', bins=20, ax=ax[7], kde=True, linewidth=0)\n",
    "sns.histplot(data=df, x = 'ProductDescriptionPage_Duration', bins=20, ax=ax[8], kde=True, linewidth=0)\n",
    "\n",
    "plt.show()\n",
    "\n",
    "# skewed data - need to transform to normal or uniform distribution "
   ]
  },
  {
   "cell_type": "code",
   "execution_count": 8,
   "id": "2c09bcc0",
   "metadata": {
    "execution": {
     "iopub.execute_input": "2023-03-31T15:38:52.190743Z",
     "iopub.status.busy": "2023-03-31T15:38:52.190318Z",
     "iopub.status.idle": "2023-03-31T15:38:53.090379Z",
     "shell.execute_reply": "2023-03-31T15:38:53.089141Z"
    },
    "papermill": {
     "duration": 0.913879,
     "end_time": "2023-03-31T15:38:53.092724",
     "exception": false,
     "start_time": "2023-03-31T15:38:52.178845",
     "status": "completed"
    },
    "tags": []
   },
   "outputs": [
    {
     "data": {
      "image/png": "[encoded data removed]",
      "text/plain": [
       "<Figure size 1296x432 with 4 Axes>"
      ]
     },
     "metadata": {
      "needs_background": "light"
     },
     "output_type": "display_data"
    }
   ],
   "source": [
    "fig = plt.figure(figsize=(18, 6))\n",
    "ax = []\n",
    "for i in range(1, 5):\n",
    "    ax.append(fig.add_subplot(2, 2, i))\n",
    "\n",
    "sns.countplot(data=df, x='OS', hue='Made_Purchase', ax=ax[0])\n",
    "sns.countplot(data=df, x='SearchEngine', hue='Made_Purchase', ax=ax[1])\n",
    "sns.countplot(data=df, x='Zone', hue='Made_Purchase', ax=ax[2])\n",
    "sns.countplot(data=df, x='Type of Traffic', hue='Made_Purchase', ax=ax[3])\n",
    "\n",
    "for i in range(len(ax)):\n",
    "    ax[i].legend(loc='upper right')\n",
    "plt.show()\n",
    "\n",
    "# not much difference based on these things - showing dataimbalnce"
   ]
  },
  {
   "cell_type": "code",
   "execution_count": 9,
   "id": "8a0c872f",
   "metadata": {
    "execution": {
     "iopub.execute_input": "2023-03-31T15:38:53.115764Z",
     "iopub.status.busy": "2023-03-31T15:38:53.115305Z",
     "iopub.status.idle": "2023-03-31T15:38:54.275497Z",
     "shell.execute_reply": "2023-03-31T15:38:54.274282Z"
    },
    "papermill": {
     "duration": 1.174041,
     "end_time": "2023-03-31T15:38:54.277579",
     "exception": false,
     "start_time": "2023-03-31T15:38:53.103538",
     "status": "completed"
    },
    "tags": []
   },
   "outputs": [
    {
     "data": {
      "image/png": "[encoded data removed]",
      "text/plain": [
       "<Figure size 1296x1080 with 10 Axes>"
      ]
     },
     "metadata": {
      "needs_background": "light"
     },
     "output_type": "display_data"
    }
   ],
   "source": [
    "fig = plt.figure(figsize=(18, 15))\n",
    "\n",
    "ax = []\n",
    "for i in range(1, 11):\n",
    "    ax.append(fig.add_subplot(4, 3, i))\n",
    "\n",
    "sns.countplot(data=df, x='OS', ax=ax[0])\n",
    "sns.countplot(data=df, x='SearchEngine', ax=ax[1])\n",
    "sns.countplot(data=df, x='Zone', ax=ax[2])\n",
    "sns.countplot(data=df, x='Type of Traffic', ax=ax[3])\n",
    "sns.countplot(data=df, x='CustomerType', ax=ax[4])\n",
    "sns.countplot(data=df, x='Gender', ax=ax[5])\n",
    "sns.countplot(data=df, x='Marital Status', ax=ax[6])\n",
    "sns.countplot(data=df, x='Cookies Setting', ax=ax[7])\n",
    "sns.countplot(data=df, x='Month_SeasonalPurchase', ax=ax[8])\n",
    "sns.countplot(data=df, x='Education', ax=ax[9])\n",
    "plt.show()\n",
    "\n",
    "# cookie setting, marital status gender and education have all equal number of data points in the data set"
   ]
  },
  {
   "cell_type": "markdown",
   "id": "f047a019",
   "metadata": {
    "papermill": {
     "duration": 0.009566,
     "end_time": "2023-03-31T15:38:54.297820",
     "exception": false,
     "start_time": "2023-03-31T15:38:54.288254",
     "status": "completed"
    },
    "tags": []
   },
   "source": [
    "# Split The Data"
   ]
  },
  {
   "cell_type": "code",
   "execution_count": 10,
   "id": "2f6bd1d1",
   "metadata": {
    "execution": {
     "iopub.execute_input": "2023-03-31T15:38:54.320395Z",
     "iopub.status.busy": "2023-03-31T15:38:54.319704Z",
     "iopub.status.idle": "2023-03-31T15:38:54.336387Z",
     "shell.execute_reply": "2023-03-31T15:38:54.335348Z"
    },
    "papermill": {
     "duration": 0.031699,
     "end_time": "2023-03-31T15:38:54.339390",
     "exception": false,
     "start_time": "2023-03-31T15:38:54.307691",
     "status": "completed"
    },
    "tags": []
   },
   "outputs": [],
   "source": [
    "sss = StratifiedShuffleSplit(n_splits=1, test_size=0.1, random_state=41)\n",
    "\n",
    "for train_index, test_index in sss.split(df, df['Made_Purchase']):\n",
    "    train, test = df.loc[train_index], df.loc[test_index]"
   ]
  },
  {
   "cell_type": "markdown",
   "id": "e5637d41",
   "metadata": {
    "papermill": {
     "duration": 0.009654,
     "end_time": "2023-03-31T15:38:54.359859",
     "exception": false,
     "start_time": "2023-03-31T15:38:54.350205",
     "status": "completed"
    },
    "tags": []
   },
   "source": [
    "### train test (validation) split"
   ]
  },
  {
   "cell_type": "code",
   "execution_count": 11,
   "id": "00d09069",
   "metadata": {
    "execution": {
     "iopub.execute_input": "2023-03-31T15:38:54.381809Z",
     "iopub.status.busy": "2023-03-31T15:38:54.381363Z",
     "iopub.status.idle": "2023-03-31T15:38:54.399349Z",
     "shell.execute_reply": "2023-03-31T15:38:54.398220Z"
    },
    "papermill": {
     "duration": 0.031844,
     "end_time": "2023-03-31T15:38:54.401647",
     "exception": false,
     "start_time": "2023-03-31T15:38:54.369803",
     "status": "completed"
    },
    "tags": []
   },
   "outputs": [],
   "source": [
    "X = train.drop('Made_Purchase', axis = 1).reset_index().drop('index', axis=1)\n",
    "y = train['Made_Purchase'].reset_index().drop('index', axis=1)\n",
    "X_test = test.drop('Made_Purchase', axis = 1).reset_index().drop('index', axis=1)\n",
    "y_test = test['Made_Purchase'].reset_index().drop('index', axis=1)"
   ]
  },
  {
   "cell_type": "markdown",
   "id": "081318c0",
   "metadata": {
    "papermill": {
     "duration": 0.009739,
     "end_time": "2023-03-31T15:38:54.422091",
     "exception": false,
     "start_time": "2023-03-31T15:38:54.412352",
     "status": "completed"
    },
    "tags": []
   },
   "source": [
    "### Splitting Variable Set - Categorical / numerical "
   ]
  },
  {
   "cell_type": "code",
   "execution_count": 12,
   "id": "2e3c2e4c",
   "metadata": {
    "execution": {
     "iopub.execute_input": "2023-03-31T15:38:54.445977Z",
     "iopub.status.busy": "2023-03-31T15:38:54.445406Z",
     "iopub.status.idle": "2023-03-31T15:38:54.452242Z",
     "shell.execute_reply": "2023-03-31T15:38:54.450559Z"
    },
    "papermill": {
     "duration": 0.023084,
     "end_time": "2023-03-31T15:38:54.455317",
     "exception": false,
     "start_time": "2023-03-31T15:38:54.432233",
     "status": "completed"
    },
    "tags": []
   },
   "outputs": [],
   "source": [
    "numericVar = ['HomePage', 'HomePage_Duration', 'LandingPage', 'LandingPage_Duration',\n",
    "       'ProductDescriptionPage', 'ProductDescriptionPage_Duration',\n",
    "       'GoogleMetric:Bounce Rates', 'GoogleMetric:Exit Rates',\n",
    "       'GoogleMetric:Page Values', 'SeasonalPurchase',\n",
    "       'OS', 'SearchEngine', 'Zone','Type of Traffic', 'WeekendPurchase']\n",
    "one_hot_cats =['Month_SeasonalPurchase', 'CustomerType', \n",
    "               'Gender', 'Cookies Setting',\n",
    "               'Education', 'Marital Status']"
   ]
  },
  {
   "cell_type": "markdown",
   "id": "1c6e5141",
   "metadata": {
    "papermill": {
     "duration": 0.009817,
     "end_time": "2023-03-31T15:38:54.476067",
     "exception": false,
     "start_time": "2023-03-31T15:38:54.466250",
     "status": "completed"
    },
    "tags": []
   },
   "source": [
    "# Preprocessing Function and Pipelines"
   ]
  },
  {
   "cell_type": "code",
   "execution_count": 13,
   "id": "1996e216",
   "metadata": {
    "execution": {
     "iopub.execute_input": "2023-03-31T15:38:54.501391Z",
     "iopub.status.busy": "2023-03-31T15:38:54.500660Z",
     "iopub.status.idle": "2023-03-31T15:38:54.509081Z",
     "shell.execute_reply": "2023-03-31T15:38:54.507898Z"
    },
    "papermill": {
     "duration": 0.024487,
     "end_time": "2023-03-31T15:38:54.512148",
     "exception": false,
     "start_time": "2023-03-31T15:38:54.487661",
     "status": "completed"
    },
    "tags": []
   },
   "outputs": [],
   "source": [
    "def myPreprocessing(df):   \n",
    "    '''\n",
    "    putting Nan on improper values\n",
    "    Input - dataframe - incorrect values\n",
    "    Output - dataframe - nan replaced on improper values\n",
    "    '''\n",
    "    df.loc[(df.HomePage == 0) & (df.HomePage_Duration > 0), 'HomePage'] = np.nan\n",
    "    df.loc[(df.HomePage > 0) & (df.HomePage_Duration == 0), 'HomePage_Duration'] = np.nan\n",
    "    df.loc[(df.LandingPage == 0) & (df.LandingPage_Duration > 0), 'LandingPage'] = np.nan\n",
    "    df.loc[(df.LandingPage > 0) & (df.LandingPage_Duration == 0), 'LandingPage_Duration'] = np.nan\n",
    "    df.loc[(df.ProductDescriptionPage == 0) & (df.ProductDescriptionPage_Duration > 0), 'ProductDescriptionPage'] = np.nan\n",
    "    df.loc[(df.ProductDescriptionPage > 0) & (df.ProductDescriptionPage_Duration == 0), 'ProductDescriptionPage_Duration'] = np.nan\n",
    "    df.loc[(df.SeasonalPurchase > 0) & (df.Month_SeasonalPurchase.isnull()), 'Month_SeasonalPurchase'] = np.nan\n",
    "    return df"
   ]
  },
  {
   "cell_type": "code",
   "execution_count": 14,
   "id": "b2fa06a7",
   "metadata": {
    "execution": {
     "iopub.execute_input": "2023-03-31T15:38:54.535731Z",
     "iopub.status.busy": "2023-03-31T15:38:54.535115Z",
     "iopub.status.idle": "2023-03-31T15:38:54.540639Z",
     "shell.execute_reply": "2023-03-31T15:38:54.539845Z"
    },
    "papermill": {
     "duration": 0.019487,
     "end_time": "2023-03-31T15:38:54.542508",
     "exception": false,
     "start_time": "2023-03-31T15:38:54.523021",
     "status": "completed"
    },
    "tags": []
   },
   "outputs": [],
   "source": [
    "\n",
    "encoder = ColumnTransformer(\n",
    "    transformers=[\n",
    "                  ('ord_encode', \n",
    "                   OneHotEncoder(handle_unknown='ignore'), \n",
    "                   one_hot_cats),\n",
    "                 ],remainder='passthrough')\n",
    "\n",
    "impute = Pipeline(\n",
    "    steps=[('encoder', encoder),\n",
    "           ('imputer', IterativeImputer(random_state=0)),\n",
    "           ('scaler', StandardScaler()),\n",
    "           ('normaliser', QuantileTransformer(n_quantiles=100, output_distribution='normal'))\n",
    "          ])"
   ]
  },
  {
   "cell_type": "markdown",
   "id": "9bfda6c6",
   "metadata": {
    "papermill": {
     "duration": 0.009838,
     "end_time": "2023-03-31T15:38:54.562983",
     "exception": false,
     "start_time": "2023-03-31T15:38:54.553145",
     "status": "completed"
    },
    "tags": []
   },
   "source": [
    "## Fitting the pipelines - converting it back to Dataframe to peek"
   ]
  },
  {
   "cell_type": "code",
   "execution_count": 15,
   "id": "8b627e0f",
   "metadata": {
    "execution": {
     "iopub.execute_input": "2023-03-31T15:38:54.586526Z",
     "iopub.status.busy": "2023-03-31T15:38:54.585848Z",
     "iopub.status.idle": "2023-03-31T15:39:01.166036Z",
     "shell.execute_reply": "2023-03-31T15:39:01.164238Z"
    },
    "papermill": {
     "duration": 6.595354,
     "end_time": "2023-03-31T15:39:01.169061",
     "exception": false,
     "start_time": "2023-03-31T15:38:54.573707",
     "status": "completed"
    },
    "tags": []
   },
   "outputs": [],
   "source": [
    "X = myPreprocessing(X)\n",
    "X = impute.fit_transform(X, y)\n",
    "X_test = impute.transform(X_test)\n",
    "\n",
    "columns = list(encoder.transformers_[0][1].get_feature_names_out()) + numericVar\n",
    "X = pd.DataFrame(X, columns = columns)\n",
    "X_test = pd.DataFrame(X_test, columns = columns)"
   ]
  },
  {
   "cell_type": "markdown",
   "id": "3ccdb419",
   "metadata": {
    "papermill": {
     "duration": 0.010242,
     "end_time": "2023-03-31T15:39:01.190154",
     "exception": false,
     "start_time": "2023-03-31T15:39:01.179912",
     "status": "completed"
    },
    "tags": []
   },
   "source": [
    "# Removing Outliers From Training Set\n",
    "There are abnormal values - like abnormal amount of time in pages duration removing them is essential "
   ]
  },
  {
   "cell_type": "code",
   "execution_count": 16,
   "id": "cedf86fb",
   "metadata": {
    "execution": {
     "iopub.execute_input": "2023-03-31T15:39:01.213123Z",
     "iopub.status.busy": "2023-03-31T15:39:01.212690Z",
     "iopub.status.idle": "2023-03-31T15:39:08.093566Z",
     "shell.execute_reply": "2023-03-31T15:39:08.090947Z"
    },
    "papermill": {
     "duration": 6.896628,
     "end_time": "2023-03-31T15:39:08.097321",
     "exception": false,
     "start_time": "2023-03-31T15:39:01.200693",
     "status": "completed"
    },
    "tags": []
   },
   "outputs": [
    {
     "data": {
      "text/plain": [
       "(array([-1,  1]), array([ 1362, 11895]))"
      ]
     },
     "execution_count": 16,
     "metadata": {},
     "output_type": "execute_result"
    }
   ],
   "source": [
    "outlier = IsolationForest(n_estimators=1000, contamination = 'auto', random_state=0)\n",
    "L = outlier.fit_predict(X)\n",
    "\n",
    "unique, counts = np.unique(L, return_counts=True)\n",
    "unique, counts"
   ]
  },
  {
   "cell_type": "code",
   "execution_count": 17,
   "id": "74958f23",
   "metadata": {
    "execution": {
     "iopub.execute_input": "2023-03-31T15:39:08.121943Z",
     "iopub.status.busy": "2023-03-31T15:39:08.121357Z",
     "iopub.status.idle": "2023-03-31T15:39:08.142827Z",
     "shell.execute_reply": "2023-03-31T15:39:08.141080Z"
    },
    "papermill": {
     "duration": 0.037103,
     "end_time": "2023-03-31T15:39:08.145595",
     "exception": false,
     "start_time": "2023-03-31T15:39:08.108492",
     "status": "completed"
    },
    "tags": []
   },
   "outputs": [],
   "source": [
    "X['Outlier'] = L\n",
    "X['label'] = y\n",
    "\n",
    "X_New = X.loc[X.Outlier == 1].reset_index().drop(['Outlier', 'index', 'label'], axis=1)\n",
    "y_New = X.loc[X.Outlier == 1].reset_index()['label']"
   ]
  },
  {
   "cell_type": "code",
   "execution_count": 18,
   "id": "5d81f689",
   "metadata": {
    "execution": {
     "iopub.execute_input": "2023-03-31T15:39:08.170082Z",
     "iopub.status.busy": "2023-03-31T15:39:08.169334Z",
     "iopub.status.idle": "2023-03-31T15:39:08.288930Z",
     "shell.execute_reply": "2023-03-31T15:39:08.287877Z"
    },
    "papermill": {
     "duration": 0.134676,
     "end_time": "2023-03-31T15:39:08.291242",
     "exception": false,
     "start_time": "2023-03-31T15:39:08.156566",
     "status": "completed"
    },
    "tags": []
   },
   "outputs": [
    {
     "data": {
      "text/html": [
       "<div>\n",
       "<style scoped>\n",
       "    .dataframe tbody tr th:only-of-type {\n",
       "        vertical-align: middle;\n",
       "    }\n",
       "\n",
       "    .dataframe tbody tr th {\n",
       "        vertical-align: top;\n",
       "    }\n",
       "\n",
       "    .dataframe thead th {\n",
       "        text-align: right;\n",
       "    }\n",
       "</style>\n",
       "<table border=\"1\" class=\"dataframe\">\n",
       "  <thead>\n",
       "    <tr style=\"text-align: right;\">\n",
       "      <th></th>\n",
       "      <th>count</th>\n",
       "      <th>mean</th>\n",
       "      <th>std</th>\n",
       "      <th>min</th>\n",
       "      <th>25%</th>\n",
       "      <th>50%</th>\n",
       "      <th>75%</th>\n",
       "      <th>max</th>\n",
       "    </tr>\n",
       "  </thead>\n",
       "  <tbody>\n",
       "    <tr>\n",
       "      <th>Month_SeasonalPurchase_Aug</th>\n",
       "      <td>11895.0</td>\n",
       "      <td>-4.888995</td>\n",
       "      <td>1.769493</td>\n",
       "      <td>-5.199338</td>\n",
       "      <td>-5.199338</td>\n",
       "      <td>-5.199338</td>\n",
       "      <td>-5.199338</td>\n",
       "      <td>5.199338</td>\n",
       "    </tr>\n",
       "    <tr>\n",
       "      <th>Month_SeasonalPurchase_Dec</th>\n",
       "      <td>11895.0</td>\n",
       "      <td>-3.833828</td>\n",
       "      <td>3.512251</td>\n",
       "      <td>-5.199338</td>\n",
       "      <td>-5.199338</td>\n",
       "      <td>-5.199338</td>\n",
       "      <td>-5.199338</td>\n",
       "      <td>5.199338</td>\n",
       "    </tr>\n",
       "    <tr>\n",
       "      <th>Month_SeasonalPurchase_Feb</th>\n",
       "      <td>11895.0</td>\n",
       "      <td>-5.040232</td>\n",
       "      <td>1.276443</td>\n",
       "      <td>-5.199338</td>\n",
       "      <td>-5.199338</td>\n",
       "      <td>-5.199338</td>\n",
       "      <td>-5.199338</td>\n",
       "      <td>5.199338</td>\n",
       "    </tr>\n",
       "    <tr>\n",
       "      <th>Month_SeasonalPurchase_Jul</th>\n",
       "      <td>11895.0</td>\n",
       "      <td>-4.880253</td>\n",
       "      <td>1.793465</td>\n",
       "      <td>-5.199338</td>\n",
       "      <td>-5.199338</td>\n",
       "      <td>-5.199338</td>\n",
       "      <td>-5.199338</td>\n",
       "      <td>5.199338</td>\n",
       "    </tr>\n",
       "    <tr>\n",
       "      <th>Month_SeasonalPurchase_June</th>\n",
       "      <td>11895.0</td>\n",
       "      <td>-4.977289</td>\n",
       "      <td>1.503294</td>\n",
       "      <td>-5.199338</td>\n",
       "      <td>-5.199338</td>\n",
       "      <td>-5.199338</td>\n",
       "      <td>-5.199338</td>\n",
       "      <td>5.199338</td>\n",
       "    </tr>\n",
       "    <tr>\n",
       "      <th>Month_SeasonalPurchase_Mar</th>\n",
       "      <td>11895.0</td>\n",
       "      <td>-3.506001</td>\n",
       "      <td>3.839571</td>\n",
       "      <td>-5.199338</td>\n",
       "      <td>-5.199338</td>\n",
       "      <td>-5.199338</td>\n",
       "      <td>-5.199338</td>\n",
       "      <td>5.199338</td>\n",
       "    </tr>\n",
       "    <tr>\n",
       "      <th>Month_SeasonalPurchase_May</th>\n",
       "      <td>11895.0</td>\n",
       "      <td>-2.135247</td>\n",
       "      <td>4.740857</td>\n",
       "      <td>-5.199338</td>\n",
       "      <td>-5.199338</td>\n",
       "      <td>-5.199338</td>\n",
       "      <td>5.199338</td>\n",
       "      <td>5.199338</td>\n",
       "    </tr>\n",
       "    <tr>\n",
       "      <th>Month_SeasonalPurchase_Nov</th>\n",
       "      <td>11895.0</td>\n",
       "      <td>-2.709600</td>\n",
       "      <td>4.437661</td>\n",
       "      <td>-5.199338</td>\n",
       "      <td>-5.199338</td>\n",
       "      <td>-5.199338</td>\n",
       "      <td>-5.199338</td>\n",
       "      <td>5.199338</td>\n",
       "    </tr>\n",
       "    <tr>\n",
       "      <th>Month_SeasonalPurchase_Oct</th>\n",
       "      <td>11895.0</td>\n",
       "      <td>-4.841788</td>\n",
       "      <td>1.894863</td>\n",
       "      <td>-5.199338</td>\n",
       "      <td>-5.199338</td>\n",
       "      <td>-5.199338</td>\n",
       "      <td>-5.199338</td>\n",
       "      <td>5.199338</td>\n",
       "    </tr>\n",
       "    <tr>\n",
       "      <th>Month_SeasonalPurchase_Sep</th>\n",
       "      <td>11895.0</td>\n",
       "      <td>-4.876756</td>\n",
       "      <td>1.802953</td>\n",
       "      <td>-5.199338</td>\n",
       "      <td>-5.199338</td>\n",
       "      <td>-5.199338</td>\n",
       "      <td>-5.199338</td>\n",
       "      <td>5.199338</td>\n",
       "    </tr>\n",
       "    <tr>\n",
       "      <th>Month_SeasonalPurchase_nan</th>\n",
       "      <td>11895.0</td>\n",
       "      <td>-5.104049</td>\n",
       "      <td>0.990896</td>\n",
       "      <td>-5.199338</td>\n",
       "      <td>-5.199338</td>\n",
       "      <td>-5.199338</td>\n",
       "      <td>-5.199338</td>\n",
       "      <td>5.199338</td>\n",
       "    </tr>\n",
       "    <tr>\n",
       "      <th>CustomerType_New_Visitor</th>\n",
       "      <td>11895.0</td>\n",
       "      <td>-4.286667</td>\n",
       "      <td>2.942503</td>\n",
       "      <td>-5.199338</td>\n",
       "      <td>-5.199338</td>\n",
       "      <td>-5.199338</td>\n",
       "      <td>-5.199338</td>\n",
       "      <td>5.199338</td>\n",
       "    </tr>\n",
       "    <tr>\n",
       "      <th>CustomerType_Other</th>\n",
       "      <td>11895.0</td>\n",
       "      <td>-5.184476</td>\n",
       "      <td>0.392851</td>\n",
       "      <td>-5.199338</td>\n",
       "      <td>-5.199338</td>\n",
       "      <td>-5.199338</td>\n",
       "      <td>-5.199338</td>\n",
       "      <td>5.199338</td>\n",
       "    </tr>\n",
       "    <tr>\n",
       "      <th>CustomerType_Returning_Visitor</th>\n",
       "      <td>11895.0</td>\n",
       "      <td>4.219353</td>\n",
       "      <td>3.038247</td>\n",
       "      <td>-5.199338</td>\n",
       "      <td>5.199338</td>\n",
       "      <td>5.199338</td>\n",
       "      <td>5.199338</td>\n",
       "      <td>5.199338</td>\n",
       "    </tr>\n",
       "    <tr>\n",
       "      <th>CustomerType_nan</th>\n",
       "      <td>11895.0</td>\n",
       "      <td>-5.146885</td>\n",
       "      <td>0.736702</td>\n",
       "      <td>-5.199338</td>\n",
       "      <td>-5.199338</td>\n",
       "      <td>-5.199338</td>\n",
       "      <td>-5.199338</td>\n",
       "      <td>5.199338</td>\n",
       "    </tr>\n",
       "    <tr>\n",
       "      <th>Gender_Female</th>\n",
       "      <td>11895.0</td>\n",
       "      <td>-1.803923</td>\n",
       "      <td>4.876574</td>\n",
       "      <td>-5.199338</td>\n",
       "      <td>-5.199338</td>\n",
       "      <td>-5.199338</td>\n",
       "      <td>5.199338</td>\n",
       "      <td>5.199338</td>\n",
       "    </tr>\n",
       "    <tr>\n",
       "      <th>Gender_Male</th>\n",
       "      <td>11895.0</td>\n",
       "      <td>-1.838017</td>\n",
       "      <td>4.863825</td>\n",
       "      <td>-5.199338</td>\n",
       "      <td>-5.199338</td>\n",
       "      <td>-5.199338</td>\n",
       "      <td>5.199338</td>\n",
       "      <td>5.199338</td>\n",
       "    </tr>\n",
       "    <tr>\n",
       "      <th>Gender_Not Specified</th>\n",
       "      <td>11895.0</td>\n",
       "      <td>-1.644818</td>\n",
       "      <td>4.932518</td>\n",
       "      <td>-5.199338</td>\n",
       "      <td>-5.199338</td>\n",
       "      <td>-5.199338</td>\n",
       "      <td>5.199338</td>\n",
       "      <td>5.199338</td>\n",
       "    </tr>\n",
       "    <tr>\n",
       "      <th>Gender_nan</th>\n",
       "      <td>11895.0</td>\n",
       "      <td>-5.111917</td>\n",
       "      <td>0.949469</td>\n",
       "      <td>-5.199338</td>\n",
       "      <td>-5.199338</td>\n",
       "      <td>-5.199338</td>\n",
       "      <td>-5.199338</td>\n",
       "      <td>5.199338</td>\n",
       "    </tr>\n",
       "    <tr>\n",
       "      <th>Cookies Setting_ALL</th>\n",
       "      <td>11895.0</td>\n",
       "      <td>-1.854627</td>\n",
       "      <td>4.857515</td>\n",
       "      <td>-5.199338</td>\n",
       "      <td>-5.199338</td>\n",
       "      <td>-5.199338</td>\n",
       "      <td>5.199338</td>\n",
       "      <td>5.199338</td>\n",
       "    </tr>\n",
       "    <tr>\n",
       "      <th>Cookies Setting_Deny</th>\n",
       "      <td>11895.0</td>\n",
       "      <td>-1.681534</td>\n",
       "      <td>4.920121</td>\n",
       "      <td>-5.199338</td>\n",
       "      <td>-5.199338</td>\n",
       "      <td>-5.199338</td>\n",
       "      <td>5.199338</td>\n",
       "      <td>5.199338</td>\n",
       "    </tr>\n",
       "    <tr>\n",
       "      <th>Cookies Setting_Required</th>\n",
       "      <td>11895.0</td>\n",
       "      <td>-1.757590</td>\n",
       "      <td>4.893465</td>\n",
       "      <td>-5.199338</td>\n",
       "      <td>-5.199338</td>\n",
       "      <td>-5.199338</td>\n",
       "      <td>5.199338</td>\n",
       "      <td>5.199338</td>\n",
       "    </tr>\n",
       "    <tr>\n",
       "      <th>Cookies Setting_nan</th>\n",
       "      <td>11895.0</td>\n",
       "      <td>-5.104923</td>\n",
       "      <td>0.986382</td>\n",
       "      <td>-5.199338</td>\n",
       "      <td>-5.199338</td>\n",
       "      <td>-5.199338</td>\n",
       "      <td>-5.199338</td>\n",
       "      <td>5.199338</td>\n",
       "    </tr>\n",
       "    <tr>\n",
       "      <th>Education_Diploma</th>\n",
       "      <td>11895.0</td>\n",
       "      <td>-2.637915</td>\n",
       "      <td>4.480648</td>\n",
       "      <td>-5.199338</td>\n",
       "      <td>-5.199338</td>\n",
       "      <td>-5.199338</td>\n",
       "      <td>-5.199338</td>\n",
       "      <td>5.199338</td>\n",
       "    </tr>\n",
       "    <tr>\n",
       "      <th>Education_Graduate</th>\n",
       "      <td>11895.0</td>\n",
       "      <td>-2.589834</td>\n",
       "      <td>4.508612</td>\n",
       "      <td>-5.199338</td>\n",
       "      <td>-5.199338</td>\n",
       "      <td>-5.199338</td>\n",
       "      <td>5.199338</td>\n",
       "      <td>5.199338</td>\n",
       "    </tr>\n",
       "    <tr>\n",
       "      <th>Education_Not Specified</th>\n",
       "      <td>11895.0</td>\n",
       "      <td>-2.695613</td>\n",
       "      <td>4.446172</td>\n",
       "      <td>-5.199338</td>\n",
       "      <td>-5.199338</td>\n",
       "      <td>-5.199338</td>\n",
       "      <td>-5.199338</td>\n",
       "      <td>5.199338</td>\n",
       "    </tr>\n",
       "    <tr>\n",
       "      <th>Education_Others</th>\n",
       "      <td>11895.0</td>\n",
       "      <td>-2.561859</td>\n",
       "      <td>4.524567</td>\n",
       "      <td>-5.199338</td>\n",
       "      <td>-5.199338</td>\n",
       "      <td>-5.199338</td>\n",
       "      <td>5.199338</td>\n",
       "      <td>5.199338</td>\n",
       "    </tr>\n",
       "    <tr>\n",
       "      <th>Education_nan</th>\n",
       "      <td>11895.0</td>\n",
       "      <td>-5.112791</td>\n",
       "      <td>0.944750</td>\n",
       "      <td>-5.199338</td>\n",
       "      <td>-5.199338</td>\n",
       "      <td>-5.199338</td>\n",
       "      <td>-5.199338</td>\n",
       "      <td>5.199338</td>\n",
       "    </tr>\n",
       "    <tr>\n",
       "      <th>Marital Status_Married</th>\n",
       "      <td>11895.0</td>\n",
       "      <td>-1.860747</td>\n",
       "      <td>4.855174</td>\n",
       "      <td>-5.199338</td>\n",
       "      <td>-5.199338</td>\n",
       "      <td>-5.199338</td>\n",
       "      <td>5.199338</td>\n",
       "      <td>5.199338</td>\n",
       "    </tr>\n",
       "    <tr>\n",
       "      <th>Marital Status_Other</th>\n",
       "      <td>11895.0</td>\n",
       "      <td>-1.696396</td>\n",
       "      <td>4.915016</td>\n",
       "      <td>-5.199338</td>\n",
       "      <td>-5.199338</td>\n",
       "      <td>-5.199338</td>\n",
       "      <td>5.199338</td>\n",
       "      <td>5.199338</td>\n",
       "    </tr>\n",
       "    <tr>\n",
       "      <th>Marital Status_Single</th>\n",
       "      <td>11895.0</td>\n",
       "      <td>-1.724370</td>\n",
       "      <td>4.905271</td>\n",
       "      <td>-5.199338</td>\n",
       "      <td>-5.199338</td>\n",
       "      <td>-5.199338</td>\n",
       "      <td>5.199338</td>\n",
       "      <td>5.199338</td>\n",
       "    </tr>\n",
       "    <tr>\n",
       "      <th>Marital Status_nan</th>\n",
       "      <td>11895.0</td>\n",
       "      <td>-5.117162</td>\n",
       "      <td>0.920778</td>\n",
       "      <td>-5.199338</td>\n",
       "      <td>-5.199338</td>\n",
       "      <td>-5.199338</td>\n",
       "      <td>-5.199338</td>\n",
       "      <td>5.199338</td>\n",
       "    </tr>\n",
       "    <tr>\n",
       "      <th>HomePage</th>\n",
       "      <td>11895.0</td>\n",
       "      <td>-0.014578</td>\n",
       "      <td>0.810112</td>\n",
       "      <td>-5.199338</td>\n",
       "      <td>-0.714776</td>\n",
       "      <td>-0.714776</td>\n",
       "      <td>0.559592</td>\n",
       "      <td>2.661904</td>\n",
       "    </tr>\n",
       "    <tr>\n",
       "      <th>HomePage_Duration</th>\n",
       "      <td>11895.0</td>\n",
       "      <td>-0.013324</td>\n",
       "      <td>0.805512</td>\n",
       "      <td>-5.199338</td>\n",
       "      <td>-0.698526</td>\n",
       "      <td>-0.698526</td>\n",
       "      <td>0.574460</td>\n",
       "      <td>2.583465</td>\n",
       "    </tr>\n",
       "    <tr>\n",
       "      <th>LandingPage</th>\n",
       "      <td>11895.0</td>\n",
       "      <td>0.011588</td>\n",
       "      <td>0.621489</td>\n",
       "      <td>-5.199338</td>\n",
       "      <td>-0.269066</td>\n",
       "      <td>-0.269066</td>\n",
       "      <td>-0.269066</td>\n",
       "      <td>2.612865</td>\n",
       "    </tr>\n",
       "    <tr>\n",
       "      <th>LandingPage_Duration</th>\n",
       "      <td>11895.0</td>\n",
       "      <td>0.006230</td>\n",
       "      <td>0.640843</td>\n",
       "      <td>-5.199338</td>\n",
       "      <td>-0.255962</td>\n",
       "      <td>-0.255962</td>\n",
       "      <td>-0.255962</td>\n",
       "      <td>2.667961</td>\n",
       "    </tr>\n",
       "    <tr>\n",
       "      <th>ProductDescriptionPage</th>\n",
       "      <td>11895.0</td>\n",
       "      <td>-0.017014</td>\n",
       "      <td>0.942655</td>\n",
       "      <td>-5.199338</td>\n",
       "      <td>-0.682458</td>\n",
       "      <td>-0.025322</td>\n",
       "      <td>0.635270</td>\n",
       "      <td>2.693788</td>\n",
       "    </tr>\n",
       "    <tr>\n",
       "      <th>ProductDescriptionPage_Duration</th>\n",
       "      <td>11895.0</td>\n",
       "      <td>-0.020463</td>\n",
       "      <td>0.945929</td>\n",
       "      <td>-2.647187</td>\n",
       "      <td>-0.675101</td>\n",
       "      <td>-0.017633</td>\n",
       "      <td>0.637046</td>\n",
       "      <td>2.394464</td>\n",
       "    </tr>\n",
       "    <tr>\n",
       "      <th>GoogleMetric:Bounce Rates</th>\n",
       "      <td>11895.0</td>\n",
       "      <td>0.254420</td>\n",
       "      <td>1.418782</td>\n",
       "      <td>-5.199338</td>\n",
       "      <td>-0.764710</td>\n",
       "      <td>0.036236</td>\n",
       "      <td>0.698526</td>\n",
       "      <td>5.199338</td>\n",
       "    </tr>\n",
       "    <tr>\n",
       "      <th>GoogleMetric:Exit Rates</th>\n",
       "      <td>11895.0</td>\n",
       "      <td>0.036986</td>\n",
       "      <td>0.973339</td>\n",
       "      <td>-5.199338</td>\n",
       "      <td>-0.599975</td>\n",
       "      <td>0.050719</td>\n",
       "      <td>0.707340</td>\n",
       "      <td>5.199338</td>\n",
       "    </tr>\n",
       "    <tr>\n",
       "      <th>GoogleMetric:Page Values</th>\n",
       "      <td>11895.0</td>\n",
       "      <td>0.026891</td>\n",
       "      <td>0.633590</td>\n",
       "      <td>-5.199338</td>\n",
       "      <td>-0.242903</td>\n",
       "      <td>-0.242903</td>\n",
       "      <td>-0.242903</td>\n",
       "      <td>5.199338</td>\n",
       "    </tr>\n",
       "    <tr>\n",
       "      <th>SeasonalPurchase</th>\n",
       "      <td>11895.0</td>\n",
       "      <td>0.093543</td>\n",
       "      <td>0.766284</td>\n",
       "      <td>-3.384472</td>\n",
       "      <td>-0.139710</td>\n",
       "      <td>-0.139710</td>\n",
       "      <td>-0.139710</td>\n",
       "      <td>5.199338</td>\n",
       "    </tr>\n",
       "    <tr>\n",
       "      <th>OS</th>\n",
       "      <td>11895.0</td>\n",
       "      <td>-0.702429</td>\n",
       "      <td>2.241534</td>\n",
       "      <td>-5.199338</td>\n",
       "      <td>-0.063341</td>\n",
       "      <td>-0.063341</td>\n",
       "      <td>1.051717</td>\n",
       "      <td>5.199338</td>\n",
       "    </tr>\n",
       "    <tr>\n",
       "      <th>SearchEngine</th>\n",
       "      <td>11895.0</td>\n",
       "      <td>-0.663227</td>\n",
       "      <td>2.182673</td>\n",
       "      <td>-5.199338</td>\n",
       "      <td>0.037988</td>\n",
       "      <td>0.037988</td>\n",
       "      <td>0.037988</td>\n",
       "      <td>5.199338</td>\n",
       "    </tr>\n",
       "    <tr>\n",
       "      <th>Zone</th>\n",
       "      <td>11895.0</td>\n",
       "      <td>-1.501676</td>\n",
       "      <td>3.042856</td>\n",
       "      <td>-5.199338</td>\n",
       "      <td>-5.199338</td>\n",
       "      <td>0.191052</td>\n",
       "      <td>0.604585</td>\n",
       "      <td>5.199338</td>\n",
       "    </tr>\n",
       "    <tr>\n",
       "      <th>Type of Traffic</th>\n",
       "      <td>11895.0</td>\n",
       "      <td>-0.768877</td>\n",
       "      <td>2.378446</td>\n",
       "      <td>-5.199338</td>\n",
       "      <td>-0.375793</td>\n",
       "      <td>-0.375793</td>\n",
       "      <td>0.604585</td>\n",
       "      <td>5.199338</td>\n",
       "    </tr>\n",
       "    <tr>\n",
       "      <th>WeekendPurchase</th>\n",
       "      <td>11895.0</td>\n",
       "      <td>-2.972164</td>\n",
       "      <td>4.240548</td>\n",
       "      <td>-5.199338</td>\n",
       "      <td>-5.199338</td>\n",
       "      <td>-5.199338</td>\n",
       "      <td>-5.199338</td>\n",
       "      <td>5.199338</td>\n",
       "    </tr>\n",
       "  </tbody>\n",
       "</table>\n",
       "</div>"
      ],
      "text/plain": [
       "                                   count      mean       std       min  \\\n",
       "Month_SeasonalPurchase_Aug       11895.0 -4.888995  1.769493 -5.199338   \n",
       "Month_SeasonalPurchase_Dec       11895.0 -3.833828  3.512251 -5.199338   \n",
       "Month_SeasonalPurchase_Feb       11895.0 -5.040232  1.276443 -5.199338   \n",
       "Month_SeasonalPurchase_Jul       11895.0 -4.880253  1.793465 -5.199338   \n",
       "Month_SeasonalPurchase_June      11895.0 -4.977289  1.503294 -5.199338   \n",
       "Month_SeasonalPurchase_Mar       11895.0 -3.506001  3.839571 -5.199338   \n",
       "Month_SeasonalPurchase_May       11895.0 -2.135247  4.740857 -5.199338   \n",
       "Month_SeasonalPurchase_Nov       11895.0 -2.709600  4.437661 -5.199338   \n",
       "Month_SeasonalPurchase_Oct       11895.0 -4.841788  1.894863 -5.199338   \n",
       "Month_SeasonalPurchase_Sep       11895.0 -4.876756  1.802953 -5.199338   \n",
       "Month_SeasonalPurchase_nan       11895.0 -5.104049  0.990896 -5.199338   \n",
       "CustomerType_New_Visitor         11895.0 -4.286667  2.942503 -5.199338   \n",
       "CustomerType_Other               11895.0 -5.184476  0.392851 -5.199338   \n",
       "CustomerType_Returning_Visitor   11895.0  4.219353  3.038247 -5.199338   \n",
       "CustomerType_nan                 11895.0 -5.146885  0.736702 -5.199338   \n",
       "Gender_Female                    11895.0 -1.803923  4.876574 -5.199338   \n",
       "Gender_Male                      11895.0 -1.838017  4.863825 -5.199338   \n",
       "Gender_Not Specified             11895.0 -1.644818  4.932518 -5.199338   \n",
       "Gender_nan                       11895.0 -5.111917  0.949469 -5.199338   \n",
       "Cookies Setting_ALL              11895.0 -1.854627  4.857515 -5.199338   \n",
       "Cookies Setting_Deny             11895.0 -1.681534  4.920121 -5.199338   \n",
       "Cookies Setting_Required         11895.0 -1.757590  4.893465 -5.199338   \n",
       "Cookies Setting_nan              11895.0 -5.104923  0.986382 -5.199338   \n",
       "Education_Diploma                11895.0 -2.637915  4.480648 -5.199338   \n",
       "Education_Graduate               11895.0 -2.589834  4.508612 -5.199338   \n",
       "Education_Not Specified          11895.0 -2.695613  4.446172 -5.199338   \n",
       "Education_Others                 11895.0 -2.561859  4.524567 -5.199338   \n",
       "Education_nan                    11895.0 -5.112791  0.944750 -5.199338   \n",
       "Marital Status_Married           11895.0 -1.860747  4.855174 -5.199338   \n",
       "Marital Status_Other             11895.0 -1.696396  4.915016 -5.199338   \n",
       "Marital Status_Single            11895.0 -1.724370  4.905271 -5.199338   \n",
       "Marital Status_nan               11895.0 -5.117162  0.920778 -5.199338   \n",
       "HomePage                         11895.0 -0.014578  0.810112 -5.199338   \n",
       "HomePage_Duration                11895.0 -0.013324  0.805512 -5.199338   \n",
       "LandingPage                      11895.0  0.011588  0.621489 -5.199338   \n",
       "LandingPage_Duration             11895.0  0.006230  0.640843 -5.199338   \n",
       "ProductDescriptionPage           11895.0 -0.017014  0.942655 -5.199338   \n",
       "ProductDescriptionPage_Duration  11895.0 -0.020463  0.945929 -2.647187   \n",
       "GoogleMetric:Bounce Rates        11895.0  0.254420  1.418782 -5.199338   \n",
       "GoogleMetric:Exit Rates          11895.0  0.036986  0.973339 -5.199338   \n",
       "GoogleMetric:Page Values         11895.0  0.026891  0.633590 -5.199338   \n",
       "SeasonalPurchase                 11895.0  0.093543  0.766284 -3.384472   \n",
       "OS                               11895.0 -0.702429  2.241534 -5.199338   \n",
       "SearchEngine                     11895.0 -0.663227  2.182673 -5.199338   \n",
       "Zone                             11895.0 -1.501676  3.042856 -5.199338   \n",
       "Type of Traffic                  11895.0 -0.768877  2.378446 -5.199338   \n",
       "WeekendPurchase                  11895.0 -2.972164  4.240548 -5.199338   \n",
       "\n",
       "                                      25%       50%       75%       max  \n",
       "Month_SeasonalPurchase_Aug      -5.199338 -5.199338 -5.199338  5.199338  \n",
       "Month_SeasonalPurchase_Dec      -5.199338 -5.199338 -5.199338  5.199338  \n",
       "Month_SeasonalPurchase_Feb      -5.199338 -5.199338 -5.199338  5.199338  \n",
       "Month_SeasonalPurchase_Jul      -5.199338 -5.199338 -5.199338  5.199338  \n",
       "Month_SeasonalPurchase_June     -5.199338 -5.199338 -5.199338  5.199338  \n",
       "Month_SeasonalPurchase_Mar      -5.199338 -5.199338 -5.199338  5.199338  \n",
       "Month_SeasonalPurchase_May      -5.199338 -5.199338  5.199338  5.199338  \n",
       "Month_SeasonalPurchase_Nov      -5.199338 -5.199338 -5.199338  5.199338  \n",
       "Month_SeasonalPurchase_Oct      -5.199338 -5.199338 -5.199338  5.199338  \n",
       "Month_SeasonalPurchase_Sep      -5.199338 -5.199338 -5.199338  5.199338  \n",
       "Month_SeasonalPurchase_nan      -5.199338 -5.199338 -5.199338  5.199338  \n",
       "CustomerType_New_Visitor        -5.199338 -5.199338 -5.199338  5.199338  \n",
       "CustomerType_Other              -5.199338 -5.199338 -5.199338  5.199338  \n",
       "CustomerType_Returning_Visitor   5.199338  5.199338  5.199338  5.199338  \n",
       "CustomerType_nan                -5.199338 -5.199338 -5.199338  5.199338  \n",
       "Gender_Female                   -5.199338 -5.199338  5.199338  5.199338  \n",
       "Gender_Male                     -5.199338 -5.199338  5.199338  5.199338  \n",
       "Gender_Not Specified            -5.199338 -5.199338  5.199338  5.199338  \n",
       "Gender_nan                      -5.199338 -5.199338 -5.199338  5.199338  \n",
       "Cookies Setting_ALL             -5.199338 -5.199338  5.199338  5.199338  \n",
       "Cookies Setting_Deny            -5.199338 -5.199338  5.199338  5.199338  \n",
       "Cookies Setting_Required        -5.199338 -5.199338  5.199338  5.199338  \n",
       "Cookies Setting_nan             -5.199338 -5.199338 -5.199338  5.199338  \n",
       "Education_Diploma               -5.199338 -5.199338 -5.199338  5.199338  \n",
       "Education_Graduate              -5.199338 -5.199338  5.199338  5.199338  \n",
       "Education_Not Specified         -5.199338 -5.199338 -5.199338  5.199338  \n",
       "Education_Others                -5.199338 -5.199338  5.199338  5.199338  \n",
       "Education_nan                   -5.199338 -5.199338 -5.199338  5.199338  \n",
       "Marital Status_Married          -5.199338 -5.199338  5.199338  5.199338  \n",
       "Marital Status_Other            -5.199338 -5.199338  5.199338  5.199338  \n",
       "Marital Status_Single           -5.199338 -5.199338  5.199338  5.199338  \n",
       "Marital Status_nan              -5.199338 -5.199338 -5.199338  5.199338  \n",
       "HomePage                        -0.714776 -0.714776  0.559592  2.661904  \n",
       "HomePage_Duration               -0.698526 -0.698526  0.574460  2.583465  \n",
       "LandingPage                     -0.269066 -0.269066 -0.269066  2.612865  \n",
       "LandingPage_Duration            -0.255962 -0.255962 -0.255962  2.667961  \n",
       "ProductDescriptionPage          -0.682458 -0.025322  0.635270  2.693788  \n",
       "ProductDescriptionPage_Duration -0.675101 -0.017633  0.637046  2.394464  \n",
       "GoogleMetric:Bounce Rates       -0.764710  0.036236  0.698526  5.199338  \n",
       "GoogleMetric:Exit Rates         -0.599975  0.050719  0.707340  5.199338  \n",
       "GoogleMetric:Page Values        -0.242903 -0.242903 -0.242903  5.199338  \n",
       "SeasonalPurchase                -0.139710 -0.139710 -0.139710  5.199338  \n",
       "OS                              -0.063341 -0.063341  1.051717  5.199338  \n",
       "SearchEngine                     0.037988  0.037988  0.037988  5.199338  \n",
       "Zone                            -5.199338  0.191052  0.604585  5.199338  \n",
       "Type of Traffic                 -0.375793 -0.375793  0.604585  5.199338  \n",
       "WeekendPurchase                 -5.199338 -5.199338 -5.199338  5.199338  "
      ]
     },
     "execution_count": 18,
     "metadata": {},
     "output_type": "execute_result"
    }
   ],
   "source": [
    "X_New.describe().T"
   ]
  },
  {
   "cell_type": "markdown",
   "id": "e97f374e",
   "metadata": {
    "papermill": {
     "duration": 0.010542,
     "end_time": "2023-03-31T15:39:08.313318",
     "exception": false,
     "start_time": "2023-03-31T15:39:08.302776",
     "status": "completed"
    },
    "tags": []
   },
   "source": [
    "# Balancing The Dataset - SMOTE"
   ]
  },
  {
   "cell_type": "code",
   "execution_count": 19,
   "id": "21915edc",
   "metadata": {
    "execution": {
     "iopub.execute_input": "2023-03-31T15:39:08.337473Z",
     "iopub.status.busy": "2023-03-31T15:39:08.336949Z",
     "iopub.status.idle": "2023-03-31T15:39:08.741461Z",
     "shell.execute_reply": "2023-03-31T15:39:08.740485Z"
    },
    "papermill": {
     "duration": 0.4197,
     "end_time": "2023-03-31T15:39:08.743718",
     "exception": false,
     "start_time": "2023-03-31T15:39:08.324018",
     "status": "completed"
    },
    "tags": []
   },
   "outputs": [
    {
     "name": "stdout",
     "output_type": "stream",
     "text": [
      "True     7448\n",
      "False    7448\n",
      "Name: label, dtype: int64\n",
      "False    7448\n",
      "True     4447\n",
      "Name: label, dtype: int64\n"
     ]
    }
   ],
   "source": [
    "rus = SMOTE(random_state=0)\n",
    "\n",
    "X, y = rus.fit_resample(X_New, y_New)\n",
    "print(y.value_counts(), y_New.value_counts(), sep = '\\n')"
   ]
  },
  {
   "cell_type": "code",
   "execution_count": 20,
   "id": "92e9e221",
   "metadata": {
    "execution": {
     "iopub.execute_input": "2023-03-31T15:39:08.769377Z",
     "iopub.status.busy": "2023-03-31T15:39:08.768950Z",
     "iopub.status.idle": "2023-03-31T15:39:09.804087Z",
     "shell.execute_reply": "2023-03-31T15:39:09.803342Z"
    },
    "papermill": {
     "duration": 1.05124,
     "end_time": "2023-03-31T15:39:09.807084",
     "exception": false,
     "start_time": "2023-03-31T15:39:08.755844",
     "status": "completed"
    },
    "tags": []
   },
   "outputs": [
    {
     "data": {
      "image/png": "[encoded data removed]",
      "text/plain": [
       "<Figure size 1296x720 with 2 Axes>"
      ]
     },
     "metadata": {
      "needs_background": "light"
     },
     "output_type": "display_data"
    }
   ],
   "source": [
    "dataCopy = X.copy()\n",
    "dataCopy['Made_Purchase'] = y.values\n",
    "plt.figure(figsize = (18, 10))\n",
    "sns.heatmap(dataCopy.corr(), annot=False,cmap='Greys', vmin=-0.2, vmax=1);"
   ]
  },
  {
   "cell_type": "code",
   "execution_count": 21,
   "id": "3c638078",
   "metadata": {
    "execution": {
     "iopub.execute_input": "2023-03-31T15:39:09.835913Z",
     "iopub.status.busy": "2023-03-31T15:39:09.835273Z",
     "iopub.status.idle": "2023-03-31T15:39:30.955029Z",
     "shell.execute_reply": "2023-03-31T15:39:30.954242Z"
    },
    "papermill": {
     "duration": 21.136614,
     "end_time": "2023-03-31T15:39:30.957186",
     "exception": false,
     "start_time": "2023-03-31T15:39:09.820572",
     "status": "completed"
    },
    "tags": []
   },
   "outputs": [
    {
     "name": "stdout",
     "output_type": "stream",
     "text": [
      "0.7564450474898237\n"
     ]
    }
   ],
   "source": [
    "# clf = SVC(C=10)\n",
    "# 0.646\n",
    "\n",
    "# clf1= DecisionTreeClassifier(min_samples_split = 10,min_impurity_decrease=0.01, max_depth=3)\n",
    "# 0.6732\n",
    "\n",
    "# estimators = [\n",
    "#     ('adaboost', AdaBoostClassifier(clf1, n_estimators=100, learning_rate=0.1)),\n",
    "#    ('rf', RandomForestClassifier(n_estimators=50, random_state=42))\n",
    "#  ]\n",
    "# clf = StackingClassifier(estimators=estimators,  passthrough=True, cv=10,\n",
    "#                        final_estimator = XGBClassifier(n_estimators=100, learning_rate=0.01, random_state=42))\n",
    "# 0.7461825585341024\n",
    "\n",
    "estimators = [\n",
    "    ('adaboost', AdaBoostClassifier(n_estimators=100, learning_rate=0.1)),\n",
    "    ('rf', RandomForestClassifier(n_estimators=40, random_state=0))\n",
    " ]\n",
    "\n",
    "clf = StackingClassifier(estimators=estimators, passthrough=True,\n",
    "                         final_estimator = XGBClassifier(n_estimators=150, learning_rate=0.01, random_state=0))\n",
    "# 0.7523744911804613\n",
    "\n",
    "clf.fit(X, y)\n",
    "\n",
    "y_hat = clf.predict(X_test)\n",
    "score1 = clf.score(X_test, y_test)\n",
    "print(score1)"
   ]
  },
  {
   "cell_type": "markdown",
   "id": "693e117c",
   "metadata": {
    "papermill": {
     "duration": 0.012714,
     "end_time": "2023-03-31T15:39:30.983236",
     "exception": false,
     "start_time": "2023-03-31T15:39:30.970522",
     "status": "completed"
    },
    "tags": []
   },
   "source": [
    "Cross validate the classifier on train set"
   ]
  },
  {
   "cell_type": "code",
   "execution_count": 22,
   "id": "e5c85c6e",
   "metadata": {
    "execution": {
     "iopub.execute_input": "2023-03-31T15:39:31.012684Z",
     "iopub.status.busy": "2023-03-31T15:39:31.010895Z",
     "iopub.status.idle": "2023-03-31T15:42:39.373208Z",
     "shell.execute_reply": "2023-03-31T15:42:39.372238Z"
    },
    "papermill": {
     "duration": 188.391603,
     "end_time": "2023-03-31T15:42:39.387886",
     "exception": false,
     "start_time": "2023-03-31T15:39:30.996283",
     "status": "completed"
    },
    "tags": []
   },
   "outputs": [
    {
     "name": "stdout",
     "output_type": "stream",
     "text": [
      "Score:  0.7433066649839314\n"
     ]
    }
   ],
   "source": [
    "score = cross_val_score(clf, X, y, scoring='f1_micro', cv=10)\n",
    "print('Score: ', score.mean() )"
   ]
  },
  {
   "cell_type": "code",
   "execution_count": 23,
   "id": "f2aa403a",
   "metadata": {
    "execution": {
     "iopub.execute_input": "2023-03-31T15:42:39.415813Z",
     "iopub.status.busy": "2023-03-31T15:42:39.415359Z",
     "iopub.status.idle": "2023-03-31T15:42:39.428866Z",
     "shell.execute_reply": "2023-03-31T15:42:39.426894Z"
    },
    "papermill": {
     "duration": 0.031206,
     "end_time": "2023-03-31T15:42:39.431938",
     "exception": false,
     "start_time": "2023-03-31T15:42:39.400732",
     "status": "completed"
    },
    "tags": []
   },
   "outputs": [
    {
     "name": "stdout",
     "output_type": "stream",
     "text": [
      "Classification Report - Test Set \n",
      "\n",
      "               precision    recall  f1-score   support\n",
      "\n",
      "       False       0.78      0.84      0.81       907\n",
      "        True       0.71      0.62      0.66       567\n",
      "\n",
      "    accuracy                           0.76      1474\n",
      "   macro avg       0.74      0.73      0.74      1474\n",
      "weighted avg       0.75      0.76      0.75      1474\n",
      "\n"
     ]
    }
   ],
   "source": [
    "cr = classification_report(y_test, y_hat)\n",
    "print('Classification Report - Test Set \\n\\n', cr)"
   ]
  },
  {
   "cell_type": "markdown",
   "id": "f865f624",
   "metadata": {
    "papermill": {
     "duration": 0.012724,
     "end_time": "2023-03-31T15:42:39.459350",
     "exception": false,
     "start_time": "2023-03-31T15:42:39.446626",
     "status": "completed"
    },
    "tags": []
   },
   "source": [
    "## Hyperparameter Tuning\n",
    "hyper parameter tuning of this classifier takes more than 20/30 mins. Tuned classifier has been used above as final, and the tuning part is commented on ."
   ]
  },
  {
   "cell_type": "code",
   "execution_count": 24,
   "id": "c9757f55",
   "metadata": {
    "execution": {
     "iopub.execute_input": "2023-03-31T15:42:39.488030Z",
     "iopub.status.busy": "2023-03-31T15:42:39.487295Z",
     "iopub.status.idle": "2023-03-31T15:42:39.495635Z",
     "shell.execute_reply": "2023-03-31T15:42:39.494440Z"
    },
    "papermill": {
     "duration": 0.026661,
     "end_time": "2023-03-31T15:42:39.498961",
     "exception": false,
     "start_time": "2023-03-31T15:42:39.472300",
     "status": "completed"
    },
    "tags": []
   },
   "outputs": [],
   "source": [
    "# hyper parameter tuning\n",
    "n_estimator = [5, 10, 20, 30, 40, 50, 70, 100, 150, 200, 250, 500]\n",
    "learning_rate = [0.1, 0.01, 0.001, 1, 10]\n",
    "param = {\n",
    "    'rf__n_estimators': n_estimator,\n",
    "    'adaboost__n_estimators':n_estimator,\n",
    "    'final_estimator__n_estimator': n_estimator,\n",
    "    'adaboost__learning_rate':learning_rate, \n",
    "    'final_estimator__learning_rate':learning_rate,\n",
    "}\n",
    "\n",
    "tuned_clf = RandomizedSearchCV(clf,\n",
    "                            param_distributions= param,\n",
    "                            cv=10,\n",
    "                            scoring='f1_micro',\n",
    "                            n_iter=10,\n",
    "                            n_jobs=-1,\n",
    "                            error_score = 'raise',\n",
    "                            refit=True, \n",
    "                            random_state = 42)\n",
    "# tuned_clf.fit(X, y)\n",
    "# y_hat_tuned = tuned_clf.predict(X_test)\n",
    "# score2 = tuned_clf.score(X_test, y_test)\n",
    "# print(score2)\n",
    "# print(tuned_clf.best_estimator_)\n",
    "# tuned = tuned_clf.best_estimator_"
   ]
  },
  {
   "cell_type": "markdown",
   "id": "edcf888e",
   "metadata": {
    "papermill": {
     "duration": 0.0126,
     "end_time": "2023-03-31T15:42:39.525209",
     "exception": false,
     "start_time": "2023-03-31T15:42:39.512609",
     "status": "completed"
    },
    "tags": []
   },
   "source": [
    "# Predicting Finally on Test Data"
   ]
  },
  {
   "cell_type": "code",
   "execution_count": 25,
   "id": "bada3ad8",
   "metadata": {
    "execution": {
     "iopub.execute_input": "2023-03-31T15:42:39.553925Z",
     "iopub.status.busy": "2023-03-31T15:42:39.553464Z",
     "iopub.status.idle": "2023-03-31T15:42:39.887192Z",
     "shell.execute_reply": "2023-03-31T15:42:39.886233Z"
    },
    "papermill": {
     "duration": 0.351084,
     "end_time": "2023-03-31T15:42:39.889425",
     "exception": false,
     "start_time": "2023-03-31T15:42:39.538341",
     "status": "completed"
    },
    "tags": []
   },
   "outputs": [
    {
     "data": {
      "text/plain": [
       "False    4374\n",
       "True     2225\n",
       "Name: Made_Purchase, dtype: int64"
      ]
     },
     "execution_count": 25,
     "metadata": {},
     "output_type": "execute_result"
    }
   ],
   "source": [
    "test_data = \"/kaggle/input/e-commerce-shoppers-behaviour-understanding/test_data_v2.csv\"\n",
    "test_df = pd.read_csv(test_data)\n",
    "test_df = myPreprocessing(test_df)\n",
    "test_df = pd.DataFrame(impute.transform(test_df), columns = columns)\n",
    "y_pred = clf.predict(test_df)\n",
    "\n",
    "output = pd.DataFrame(y_pred.astype(bool))\n",
    "output = output.reset_index()\n",
    "output = output.rename(columns = {'index':'id',0:'Made_Purchase'})\n",
    "output.Made_Purchase.value_counts()"
   ]
  },
  {
   "cell_type": "markdown",
   "id": "dfce2db3",
   "metadata": {
    "papermill": {
     "duration": 0.012926,
     "end_time": "2023-03-31T15:42:39.915412",
     "exception": false,
     "start_time": "2023-03-31T15:42:39.902486",
     "status": "completed"
    },
    "tags": []
   },
   "source": [
    "## Submission File"
   ]
  },
  {
   "cell_type": "code",
   "execution_count": 26,
   "id": "0947ddbf",
   "metadata": {
    "execution": {
     "iopub.execute_input": "2023-03-31T15:42:39.945004Z",
     "iopub.status.busy": "2023-03-31T15:42:39.943388Z",
     "iopub.status.idle": "2023-03-31T15:42:39.962634Z",
     "shell.execute_reply": "2023-03-31T15:42:39.961220Z"
    },
    "papermill": {
     "duration": 0.037172,
     "end_time": "2023-03-31T15:42:39.965798",
     "exception": false,
     "start_time": "2023-03-31T15:42:39.928626",
     "status": "completed"
    },
    "tags": []
   },
   "outputs": [],
   "source": [
    "output.to_csv('submission.csv',index = False)"
   ]
  }
 ],
 "metadata": {
  "kernelspec": {
   "display_name": "Python 3 (ipykernel)",
   "language": "python",
   "name": "python3"
  },
  "language_info": {
   "codemirror_mode": {
    "name": "ipython",
    "version": 3
   },
   "file_extension": ".py",
   "mimetype": "text/x-python",
   "name": "python",
   "nbconvert_exporter": "python",
   "pygments_lexer": "ipython3",
   "version": "3.9.13"
  },
  "papermill": {
   "default_parameters": {},
   "duration": 242.42413,
   "end_time": "2023-03-31T15:42:41.209091",
   "environment_variables": {},
   "exception": null,
   "input_path": "__notebook__.ipynb",
   "output_path": "__notebook__.ipynb",
   "parameters": {},
   "start_time": "2023-03-31T15:38:38.784961",
   "version": "2.3.4"
  }
 },
 "nbformat": 4,
 "nbformat_minor": 5
}
